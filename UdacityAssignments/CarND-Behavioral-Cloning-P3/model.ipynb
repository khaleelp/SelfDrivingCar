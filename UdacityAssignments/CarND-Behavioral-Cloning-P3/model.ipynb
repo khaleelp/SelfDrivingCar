{
 "cells": [
  {
   "cell_type": "code",
   "execution_count": 23,
   "metadata": {
    "collapsed": false
   },
   "outputs": [],
   "source": [
    "import pandas as pd\n",
    "import matplotlib.pyplot as plt\n",
    "import numpy as np\n",
    "\n",
    "%matplotlib inline"
   ]
  },
  {
   "cell_type": "code",
   "execution_count": 24,
   "metadata": {
    "collapsed": false
   },
   "outputs": [
    {
     "data": {
      "text/html": [
       "<div>\n",
       "<table border=\"1\" class=\"dataframe\">\n",
       "  <thead>\n",
       "    <tr style=\"text-align: right;\">\n",
       "      <th></th>\n",
       "      <th>hour</th>\n",
       "      <th>date</th>\n",
       "      <th>transactionType</th>\n",
       "      <th>transactionCount</th>\n",
       "      <th>amount</th>\n",
       "    </tr>\n",
       "  </thead>\n",
       "  <tbody>\n",
       "    <tr>\n",
       "      <th>0</th>\n",
       "      <td>0</td>\n",
       "      <td>01/02/17</td>\n",
       "      <td>credit</td>\n",
       "      <td>7497</td>\n",
       "      <td>190035168</td>\n",
       "    </tr>\n",
       "    <tr>\n",
       "      <th>1</th>\n",
       "      <td>0</td>\n",
       "      <td>02/02/17</td>\n",
       "      <td>credit</td>\n",
       "      <td>2972</td>\n",
       "      <td>141931787</td>\n",
       "    </tr>\n",
       "    <tr>\n",
       "      <th>2</th>\n",
       "      <td>0</td>\n",
       "      <td>03/02/17</td>\n",
       "      <td>credit</td>\n",
       "      <td>2897</td>\n",
       "      <td>138430314</td>\n",
       "    </tr>\n",
       "    <tr>\n",
       "      <th>3</th>\n",
       "      <td>0</td>\n",
       "      <td>04/02/17</td>\n",
       "      <td>credit</td>\n",
       "      <td>3871</td>\n",
       "      <td>167003158</td>\n",
       "    </tr>\n",
       "    <tr>\n",
       "      <th>4</th>\n",
       "      <td>0</td>\n",
       "      <td>05/02/17</td>\n",
       "      <td>credit</td>\n",
       "      <td>3192</td>\n",
       "      <td>132330604</td>\n",
       "    </tr>\n",
       "  </tbody>\n",
       "</table>\n",
       "</div>"
      ],
      "text/plain": [
       "   hour      date transactionType  transactionCount     amount\n",
       "0     0  01/02/17          credit              7497  190035168\n",
       "1     0  02/02/17          credit              2972  141931787\n",
       "2     0  03/02/17          credit              2897  138430314\n",
       "3     0  04/02/17          credit              3871  167003158\n",
       "4     0  05/02/17          credit              3192  132330604"
      ]
     },
     "execution_count": 24,
     "metadata": {},
     "output_type": "execute_result"
    }
   ],
   "source": [
    "data = pd.read_csv(\"credit.csv\")\n",
    "data.head()"
   ]
  },
  {
   "cell_type": "code",
   "execution_count": 25,
   "metadata": {
    "collapsed": false
   },
   "outputs": [
    {
     "data": {
      "text/plain": [
       "<matplotlib.text.Text at 0x11851cef0>"
      ]
     },
     "execution_count": 25,
     "metadata": {},
     "output_type": "execute_result"
    },
    {
     "data": {
      "image/png": "[encoded data removed]",
      "text/plain": [
       "<matplotlib.figure.Figure at 0x1182a8e80>"
      ]
     },
     "metadata": {},
     "output_type": "display_data"
    }
   ],
   "source": [
    "count_classes = pd.value_counts(data['date'], sort = True).sort_index()\n",
    "count_classes.plot(kind = 'bar')\n",
    "plt.title(\"Fraud class histogram\")\n",
    "plt.xlabel(\"Class\")\n",
    "plt.ylabel(\"Frequency\")"
   ]
  },
  {
   "cell_type": "code",
   "execution_count": 26,
   "metadata": {
    "collapsed": false
   },
   "outputs": [
    {
     "name": "stdout",
     "output_type": "stream",
     "text": [
      "Transaction details:\n",
      "count      520.000000\n",
      "mean      6197.988462\n",
      "std       3360.366870\n",
      "min        691.000000\n",
      "25%       2595.750000\n",
      "50%       7079.500000\n",
      "75%       8774.250000\n",
      "max      14622.000000\n",
      "Name: transactionCount, dtype: float64\n",
      "\n"
     ]
    }
   ],
   "source": [
    "print (\"Transaction details:\")\n",
    "print (data.transactionCount.describe())\n",
    "print ()"
   ]
  },
  {
   "cell_type": "code",
   "execution_count": 27,
   "metadata": {
    "collapsed": false
   },
   "outputs": [
    {
     "name": "stdout",
     "output_type": "stream",
     "text": [
      "Transaction amount details\n",
      "count    5.200000e+02\n",
      "mean     2.709858e+08\n",
      "std      1.483691e+08\n",
      "min      3.114612e+07\n",
      "25%      1.186623e+08\n",
      "50%      3.049108e+08\n",
      "75%      3.800804e+08\n",
      "max      6.092913e+08\n",
      "Name: amount, dtype: float64\n",
      "\n"
     ]
    }
   ],
   "source": [
    "print (\"Transaction amount details\")\n",
    "print (data.amount.describe())\n",
    "print ()"
   ]
  },
  {
   "cell_type": "code",
   "execution_count": 28,
   "metadata": {
    "collapsed": false
   },
   "outputs": [
    {
     "name": "stdout",
     "output_type": "stream",
     "text": [
      "Index(['hour', 'date', 'transactionType', 'transactionCount', 'amount'], dtype='object')\n"
     ]
    }
   ],
   "source": [
    "v_features = data.ix[:,:].columns\n",
    "print(v_features)"
   ]
  },
  {
   "cell_type": "code",
   "execution_count": null,
   "metadata": {
    "collapsed": false
   },
   "outputs": [],
   "source": [
    "plt.figure(figsize=(12,28*4))\n",
    "gs = gridspec.GridSpec(28, 1)\n",
    "for i, cn in enumerate(data[v_features]):\n",
    "    ax = plt.subplot(gs[i])\n",
    "    sns.distplot(df[cn][df.Class == 1], bins=50)\n",
    "    ax.set_xlabel('')\n",
    "    ax.set_title('histogram of feature: ' + str(cn))\n",
    "plt.show()"
   ]
  },
  {
   "cell_type": "code",
   "execution_count": null,
   "metadata": {
    "collapsed": true
   },
   "outputs": [],
   "source": [
    ""
   ]
  }
 ],
 "metadata": {
  "anaconda-cloud": {},
  "kernelspec": {
   "display_name": "Python [default]",
   "language": "python",
   "name": "python3"
  },
  "language_info": {
   "codemirror_mode": {
    "name": "ipython",
    "version": 3.0
   },
   "file_extension": ".py",
   "mimetype": "text/x-python",
   "name": "python",
   "nbconvert_exporter": "python",
   "pygments_lexer": "ipython3",
   "version": "3.5.2"
  }
 },
 "nbformat": 4,
 "nbformat_minor": 0
}